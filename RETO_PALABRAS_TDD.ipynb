{
  "nbformat": 4,
  "nbformat_minor": 0,
  "metadata": {
    "colab": {
      "provenance": []
    },
    "kernelspec": {
      "name": "python3",
      "display_name": "Python 3"
    },
    "language_info": {
      "name": "python"
    }
  },
  "cells": [
    {
      "cell_type": "markdown",
      "source": [
        "# RETO 2\n",
        "\n",
        "* Crear una clase Palabra que tenga como atributo (letras) una lista de objetos de tipo Letra donde se guardarán palabras letra a letra. Por ejemplo, un objeto de tipo Palabra podría guardar la palabra \"Hola\" en su atributo letras una lista de objetos de tipo letra como [obj1,obj2,obj3,obj4] donde obj1 es un objeto de tipo letra con atributo letra \"H\" y así sucesivamente. \n",
        "* Cree un método de clase que permita saber cuántas vocales tiene un objeto de tipo Palabra. (0.1)\n",
        "* Crre un método de instancia que invierta la palabra almacenada en el objeto Palabra. (0.1)\n",
        "* Cree un conjunto de pruebas para cada componente de esta clase. (0.2)"
      ],
      "metadata": {
        "id": "h50hA0UFTj7A"
      }
    },
    {
      "cell_type": "code",
      "source": [
        "!pytest -v"
      ],
      "metadata": {
        "id": "0Qj_EWhQofLb",
        "colab": {
          "base_uri": "https://localhost:8080/"
        },
        "outputId": "3715fe28-08e8-440c-a795-dce967395096"
      },
      "execution_count": 98,
      "outputs": [
        {
          "output_type": "stream",
          "name": "stdout",
          "text": [
            "\u001b[1m============================= test session starts ==============================\u001b[0m\n",
            "platform linux -- Python 3.10.11, pytest-7.2.2, pluggy-1.0.0 -- /usr/bin/python3\n",
            "cachedir: .pytest_cache\n",
            "rootdir: /content\n",
            "plugins: anyio-3.6.2\n",
            "\u001b[1mcollecting ... \u001b[0m\u001b[1m\rcollected 4 items                                                              \u001b[0m\n",
            "\n",
            "test_Palabra.py::TestPalabra::test_contar_vocales \u001b[32mPASSED\u001b[0m\u001b[32m                 [ 25%]\u001b[0m\n",
            "test_palabra.py::TestPalabra::test_convertir \u001b[32mPASSED\u001b[0m\u001b[32m                      [ 50%]\u001b[0m\n",
            "test_palabra.py::TestPalabra::test_contar_vocales \u001b[32mPASSED\u001b[0m\u001b[32m                 [ 75%]\u001b[0m\n",
            "test_palabra.py::TestPalabra::test_invertir_palabra \u001b[32mPASSED\u001b[0m\u001b[32m               [100%]\u001b[0m\n",
            "\n",
            "\u001b[32m============================== \u001b[32m\u001b[1m4 passed\u001b[0m\u001b[32m in 0.02s\u001b[0m\u001b[32m ===============================\u001b[0m\n"
          ]
        }
      ]
    },
    {
      "cell_type": "code",
      "source": [
        "%%file test_palabra.py\n",
        "import pytest\n",
        "from palabra import Palabra\n",
        "from letra import Letra\n",
        "\n",
        "class TestPalabra:\n",
        "\n",
        "  def test_convertir(self):\n",
        "    palabra = \"computadora\"\n",
        "    lista = []\n",
        "\n",
        "    objeto_palabra = Palabra(palabra)\n",
        "    for i in palabra:\n",
        "      letra = Letra(i)\n",
        "      lista.append(letra)\n",
        "    assert objeto_palabra.letras == lista\n",
        "\n",
        "\n",
        "  def test_contar_vocales(self):\n",
        "    palabra = \"Amigo\"\n",
        "    objeto_palabra = Palabra(palabra)\n",
        "    assert objeto_palabra.contar_vocales() == 3\n",
        "\n",
        "  def test_invertir_palabra(self):\n",
        "    palabra = \"Elefante\"\n",
        "    objeto_palabra = Palabra(palabra)\n",
        "    palabra_invertida = palabra[::-1]\n",
        "    assert objeto_palabra.invertir_palabra() == palabra_invertida"
      ],
      "metadata": {
        "colab": {
          "base_uri": "https://localhost:8080/"
        },
        "id": "O1tUEA1yUyEw",
        "outputId": "67ec25e5-860f-4f68-a7c4-677e99353454"
      },
      "execution_count": 97,
      "outputs": [
        {
          "output_type": "stream",
          "name": "stdout",
          "text": [
            "Overwriting test_palabra.py\n"
          ]
        }
      ]
    },
    {
      "cell_type": "code",
      "source": [
        "%%file palabra.py\n",
        "from letra import Letra\n",
        "\n",
        "class Palabra:\n",
        "  def __init__(self,letras):\n",
        "    self.letras = self.convertir(letras)\n",
        "\n",
        "  def convertir(self, string):\n",
        "    lista_letras = []\n",
        "    for i  in string:\n",
        "      letter = Letra(i)\n",
        "      lista_letras.append(letter)\n",
        "    return lista_letras #Falta poner si el string tiene un caracter raro, hacer que no se pueda\n",
        "\n",
        "  def contar_vocales(self):\n",
        "    vocales = [\"a\",\"e\",\"i\",\"o\",\"u\",\"A\",\"E\",\"I\",\"O\",\"U\"]\n",
        "    cont = 0\n",
        "    for i in self.letras:\n",
        "      if i.atributo_letra in vocales:\n",
        "        cont+=1\n",
        "    print(f\"La palabra tiene {cont} vocales\")\n",
        "    return cont\n",
        "\n",
        "  def invertir_palabra(self):\n",
        "    lista_invertida = self.letras.copy()\n",
        "    lista_invertida.reverse()\n",
        "\n",
        "    palabra_original = \"\"\n",
        "    palabra_invertida = \"\"\n",
        "    for i in self.letras:\n",
        "      palabra_original+=i.atributo_letra\n",
        "    for j in lista_invertida:\n",
        "      palabra_invertida+=j.atributo_letra\n",
        "    print(f\"{palabra_original} invertida es: {palabra_invertida}\")\n",
        "    return palabra_invertida\n",
        "\n",
        "word = Palabra(\"Ejecutando\")\n",
        "\n",
        "print(word.letras)\n",
        "\n",
        "word.contar_vocales()\n",
        "\n",
        "word.invertir_palabra()"
      ],
      "metadata": {
        "colab": {
          "base_uri": "https://localhost:8080/"
        },
        "id": "cn0RUOTBU3up",
        "outputId": "9cf488a5-af19-4593-ded5-92739058508a"
      },
      "execution_count": null,
      "outputs": [
        {
          "output_type": "stream",
          "name": "stdout",
          "text": [
            "Overwriting palabra.py\n"
          ]
        }
      ]
    },
    {
      "cell_type": "code",
      "source": [
        "%%file letra.py\n",
        "from dataclasses import dataclass\n",
        "\n",
        "@dataclass\n",
        "class Letra:\n",
        "  atributo_letra: str"
      ],
      "metadata": {
        "id": "kBCEWu6uazLc",
        "colab": {
          "base_uri": "https://localhost:8080/"
        },
        "outputId": "35808932-de64-49c4-bf92-43d2e2144bc2"
      },
      "execution_count": null,
      "outputs": [
        {
          "output_type": "stream",
          "name": "stdout",
          "text": [
            "Overwriting letra.py\n"
          ]
        }
      ]
    }
  ]
}