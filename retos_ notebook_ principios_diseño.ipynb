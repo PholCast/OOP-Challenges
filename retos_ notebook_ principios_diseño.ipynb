{
  "nbformat": 4,
  "nbformat_minor": 0,
  "metadata": {
    "colab": {
      "provenance": []
    },
    "kernelspec": {
      "name": "python3",
      "display_name": "Python 3"
    },
    "language_info": {
      "name": "python"
    }
  },
  "cells": [
    {
      "cell_type": "markdown",
      "source": [
        "# GRASP"
      ],
      "metadata": {
        "id": "ZJl-YcSXwLcI"
      }
    },
    {
      "cell_type": "markdown",
      "source": [
        "* **Problema**: definir la lógica para calcular la sumatoria total de una OrderList. En este momento está en el main.\n",
        "\n",
        "* **Reto 1**: refactoring --> Arreglar la lógica propuesta usando el enfoque ***Information Expert*** (Reto de seguimiento)"
      ],
      "metadata": {
        "id": "pySB3I4a9ulY"
      }
    },
    {
      "cell_type": "code",
      "execution_count": null,
      "metadata": {
        "id": "lgAGU4wE9rQf",
        "colab": {
          "base_uri": "https://localhost:8080/"
        },
        "outputId": "41cba8bc-58b5-4f0d-86da-84d019fe210d"
      },
      "outputs": [
        {
          "output_type": "stream",
          "name": "stdout",
          "text": [
            "Valor total: 2200\n"
          ]
        }
      ],
      "source": [
        "class Product:\n",
        "  def __init__(self, name, price):\n",
        "    self.name = name\n",
        "    self.price = price\n",
        "\n",
        "class OrderItem:\n",
        "  def __init__(self, product, count):\n",
        "    self.product = product\n",
        "    self.count = count\n",
        "\n",
        "class OrderList:\n",
        "  def __init__(self, items):\n",
        "    self.items = items\n",
        "\n",
        "def main():\n",
        "  #productos\n",
        "  p1 = Product(\"p1\", 100)\n",
        "  p2 = Product(\"p2\", 200)\n",
        "  p3 = Product(\"p3\", 300)\n",
        "\n",
        "  #orden por producto\n",
        "  op1 = OrderItem(p1, 3)\n",
        "  op2 = OrderItem(p2, 2)\n",
        "  op3 = OrderItem(p3, 5)\n",
        "\n",
        "  #orden final\n",
        "  final_order = OrderList([op1,op2,op3])\n",
        "\n",
        "  #calculando sumatoria total\n",
        "  sum = 0\n",
        "  for order in final_order.items:\n",
        "    order_price = order.product.price * order.count\n",
        "    sum += order_price\n",
        "  print(f\"Valor total: {sum}\")\n",
        "\n",
        "if __name__ == '__main__':\n",
        "    # Se ejecuta cuando el módulo no es importado\n",
        "    main()"
      ]
    },
    {
      "cell_type": "code",
      "source": [
        "class Product:\n",
        "  def __init__(self, name, price):\n",
        "    self.name = name\n",
        "    self.price = price\n",
        "  \n",
        "  def get_price(self):\n",
        "    return self.price\n",
        "\n",
        "class OrderItem:\n",
        "  def __init__(self, order_data):\n",
        "    self.product = Product(order_data[0], order_data[1])\n",
        "    self.count = order_data[2]\n",
        "  \n",
        "  def get_order_total(self):\n",
        "    return self.count * self.product.get_price()\n",
        "\n",
        "class OrderList:\n",
        "  def __init__(self, order_data):\n",
        "    self.items = []\n",
        "    self.create_orders(order_data) #Llenar self.items\n",
        "\n",
        "  def create_orders(self, order_data):\n",
        "    for order_data in order_data.values():\n",
        "      order = OrderItem(order_data)\n",
        "      self.items.append(order) #agregando cada orden creada\n",
        "\n",
        "  #calculando sumatoria total\n",
        "  def get_order_list_total(self):\n",
        "    total = 0\n",
        "    for order in self.items:\n",
        "      order_price = order.get_order_total()\n",
        "      total += order_price\n",
        "    return total\n",
        "\n",
        "def main():\n",
        "\n",
        "  datos = {\"op1\":[\"p1\",100,3],\"op2\": [\"p2\",200,2],\n",
        "           \"op3\": [\"p3\",300,5]}\n",
        "  #orden final\n",
        "  final_order = OrderList(datos)\n",
        "  total = final_order.get_order_list_total()\n",
        "  print(total)\n",
        "\n",
        "\n",
        "if __name__ == '__main__':\n",
        "    # Se ejecuta cuando el módulo no es importado\n",
        "    main()"
      ],
      "metadata": {
        "colab": {
          "base_uri": "https://localhost:8080/"
        },
        "id": "0ji0RkVEq3Ir",
        "outputId": "1af0412b-ef75-4a2a-f803-df14bb78224b"
      },
      "execution_count": null,
      "outputs": [
        {
          "output_type": "stream",
          "name": "stdout",
          "text": [
            "2200\n"
          ]
        }
      ]
    },
    {
      "cell_type": "markdown",
      "source": [
        "* **Problema**: en este momento estamos creando todos los objetos en el main. \n",
        "* **Reto 2**: refactorizar usando el principio ***Creator*** --> Todo objeto debe ser creado sólo donde se usará (Reto seguimiento). El objetivo es refactorizar el código anterior para esconder toda la complejidad asociada al problema que deba ser transparente para el usuario."
      ],
      "metadata": {
        "id": "vwWO3Mzdy_0-"
      }
    },
    {
      "cell_type": "code",
      "source": [],
      "metadata": {
        "id": "Y4tJqWLAzQ2F"
      },
      "execution_count": null,
      "outputs": []
    },
    {
      "cell_type": "markdown",
      "source": [
        "* **Problema**: tengo todo expuesto en el main\n",
        "* **Reto 3**: refactorizar aplicando principio controller (Reto de seguimiento)"
      ],
      "metadata": {
        "id": "VtcgWvA9-XXO"
      }
    },
    {
      "cell_type": "code",
      "source": [],
      "metadata": {
        "id": "rnubw-bO-g93"
      },
      "execution_count": null,
      "outputs": []
    }
  ]
}