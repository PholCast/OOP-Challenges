{
  "nbformat": 4,
  "nbformat_minor": 0,
  "metadata": {
    "colab": {
      "provenance": []
    },
    "kernelspec": {
      "name": "python3",
      "display_name": "Python 3"
    },
    "language_info": {
      "name": "python"
    }
  },
  "cells": [
    {
      "cell_type": "markdown",
      "source": [
        "#RETO 1\n",
        "\n",
        "* Usar TDD para crear un producto de software que pida el nombre del usuario y devuelva el saludo, \"Hola! Su nombre es [nombre_usuario]\" --> 0,3"
      ],
      "metadata": {
        "id": "JhkvuVQiQGny"
      }
    },
    {
      "cell_type": "code",
      "execution_count": 28,
      "metadata": {
        "colab": {
          "base_uri": "https://localhost:8080/"
        },
        "id": "40rUuFhXP66s",
        "outputId": "478447d9-f4c0-4566-fc19-4c041ab0cb5e"
      },
      "outputs": [
        {
          "output_type": "stream",
          "name": "stdout",
          "text": [
            "\u001b[1m============================= test session starts ==============================\u001b[0m\n",
            "platform linux -- Python 3.10.11, pytest-7.2.2, pluggy-1.0.0 -- /usr/bin/python3\n",
            "cachedir: .pytest_cache\n",
            "rootdir: /content\n",
            "plugins: anyio-3.6.2\n",
            "\u001b[1mcollecting ... \u001b[0m\u001b[1m\rcollected 4 items                                                              \u001b[0m\n",
            "\n",
            "test_saludo.py::TestSaludo::test_saludar \u001b[32mPASSED\u001b[0m\u001b[32m                          [ 25%]\u001b[0m\n",
            "test_saludo.py::TestSaludo::test_saludar_con_numeros \u001b[32mPASSED\u001b[0m\u001b[32m              [ 50%]\u001b[0m\n",
            "test_saludo.py::TestSaludo::test_saludar_numeros_letras \u001b[32mPASSED\u001b[0m\u001b[32m           [ 75%]\u001b[0m\n",
            "test_saludo.py::TestSaludo::test_saludar_booleano \u001b[32mPASSED\u001b[0m\u001b[32m                 [100%]\u001b[0m\n",
            "\n",
            "\u001b[32m============================== \u001b[32m\u001b[1m4 passed\u001b[0m\u001b[32m in 0.02s\u001b[0m\u001b[32m ===============================\u001b[0m\n"
          ]
        }
      ],
      "source": [
        "\n",
        "!pytest -v"
      ]
    },
    {
      "cell_type": "code",
      "source": [
        "\n",
        "\n",
        "%%file test_saludo.py\n",
        "import pytest\n",
        "from saludo import Saludo\n",
        "\n",
        "\n",
        "class TestSaludo:\n",
        "  def test_saludar(self):\n",
        "    nombre = \"Phol\"\n",
        "    print(\"Probando Saludar...\")\n",
        "    persona = Saludo(nombre)\n",
        "    assert persona.saludar() == \"Hola! Su nombre es Phol\"\n",
        "\n",
        "  def test_saludar_con_numeros(self):\n",
        "    numero = 58791\n",
        "    persona = Saludo(numero)\n",
        "    \n",
        "    assert persona.saludar() == \"ERROR Numero\"\n",
        "  \n",
        "  def test_saludar_numeros_letras(self):\n",
        "    numero_nombre = \"phol55#5\"\n",
        "    persona = Saludo(numero_nombre)\n",
        "    \n",
        "    assert persona.saludar() == \"ERROR NUMERO_LETRA: EL STRING TIENE CARACTERES NO ALFABETICOS\"\n",
        "  \n",
        "  def test_saludar_booleano(self):\n",
        "    booleano = True\n",
        "    persona = Saludo(booleano)\n",
        "\n",
        "    assert persona.saludar() == \"ERROR: INGRESASTE UN BOOLEANO\"\n"
      ],
      "metadata": {
        "colab": {
          "base_uri": "https://localhost:8080/"
        },
        "id": "2__msza9QmnX",
        "outputId": "7461676e-cec7-4e40-b1a4-45d1965f204f"
      },
      "execution_count": 26,
      "outputs": [
        {
          "output_type": "stream",
          "name": "stdout",
          "text": [
            "Overwriting test_saludo.py\n"
          ]
        }
      ]
    },
    {
      "cell_type": "code",
      "source": [
        "\n",
        "\n",
        "%%file saludo.py\n",
        "from  dataclasses import dataclass\n",
        "\n",
        "@dataclass\n",
        "class Saludo:\n",
        "  name: str\n",
        "\n",
        "  def saludar(self):\n",
        "    if type(self.name) == str and self.name.isalpha():\n",
        "      return f\"Hola! Su nombre es {self.name}\"\n",
        "    elif type(self.name) == str and not self.name.isalpha():\n",
        "      return \"ERROR NUMERO_LETRA: EL STRING TIENE CARACTERES NO ALFABETICOS\"\n",
        "    elif type(self.name) == int or type(self.name) == float:\n",
        "      return \"ERROR Numero\"\n",
        "    elif type(self.name) == bool:\n",
        "      return \"ERROR: INGRESASTE UN BOOLEANO\"\n",
        "\n",
        "\n",
        "\n",
        "\n"
      ],
      "metadata": {
        "colab": {
          "base_uri": "https://localhost:8080/"
        },
        "id": "Bfe5VCWbSIiZ",
        "outputId": "2deba8f2-dd4a-42e5-c146-a405d9200955"
      },
      "execution_count": 27,
      "outputs": [
        {
          "output_type": "stream",
          "name": "stdout",
          "text": [
            "Overwriting saludo.py\n"
          ]
        }
      ]
    }
  ]
}