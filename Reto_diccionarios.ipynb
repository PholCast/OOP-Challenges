{
  "nbformat": 4,
  "nbformat_minor": 0,
  "metadata": {
    "colab": {
      "provenance": []
    },
    "kernelspec": {
      "name": "python3",
      "display_name": "Python 3"
    },
    "language_info": {
      "name": "python"
    }
  },
  "cells": [
    {
      "cell_type": "markdown",
      "source": [
        "RETO 8 - E11\n",
        "Crear una clase Person que tiene un atributo phone_dict. Este atributo es un diccionario de teléfonos asociados a la persona. Tenga en cuenta:\n",
        "\n",
        "Una persona puede tener tantos números de teléfono como quiera.\n",
        "\n",
        "Cada número tendrá asociada una etiqueta como \"oficina\" o \"casa\".\n",
        "\n",
        "Los números de teléfono serán strings de entre 7 y 10 dígitos.\n",
        "\n",
        "Este número sólo podrá contener caracteres numéricos.\n",
        "\n",
        "Cree un método para agregar números nuevos\n",
        "\n",
        "Cree un método para eliminar un número de teléfono\n",
        "\n",
        "Cree un método para modificar ya sea la etiqueta de un número de teléfono o un número de teléfono\n",
        "\n",
        "Cree un método para imprimir todos los números de teléfono de una persona"
      ],
      "metadata": {
        "id": "gXHwGCl93Aa6"
      }
    },
    {
      "cell_type": "markdown",
      "source": [
        "La función isdigit\n",
        "Las cadenas de Python cuentan con la función isdigit() que indica si todos los caracteres de una cadena (sin importar la longitud) son dígitos."
      ],
      "metadata": {
        "id": "_ep1gyiX4o1E"
      }
    },
    {
      "cell_type": "code",
      "execution_count": 1,
      "metadata": {
        "colab": {
          "base_uri": "https://localhost:8080/"
        },
        "id": "g6VnBdYa2sxs",
        "outputId": "d804a4cc-186c-4df7-97c3-19d89b330aae"
      },
      "outputs": [
        {
          "output_type": "stream",
          "name": "stdout",
          "text": [
            "El numero de casa ha sido agregado con exito\n",
            "\n",
            "El numero de celular ha sido agregado con exito\n",
            "\n",
            "El numero de lugar1 ha sido agregado con exito\n",
            "\n",
            "El numero de lugar2 ha sido agregado con exito\n",
            "\n",
            "El numero de lugar3 ha sido agregado con exito\n",
            "\n",
            "El numero de oficina ha sido agregado con exito\n",
            "\n",
            "{'casa': '4489561', 'celular': '3056428965', 'lugar1': '4785665', 'lugar2': '69854165', 'lugar3': '89521035', 'oficina': '245895621'}\n",
            "El numero de celular ha sido eliminado\n",
            "{'casa': '4489561', 'lugar1': '4785665', 'lugar2': '69854165', 'lugar3': '89521035', 'oficina': '245895621'}\n",
            "El numero de casa ha sido modificado por 3053841256\n",
            "{'casa': '3053841256', 'lugar1': '4785665', 'lugar2': '69854165', 'lugar3': '89521035', 'oficina': '245895621'}\n",
            "El numero de casa ha sido eliminado\n",
            "la clave ha sido modificada\n",
            "{'lugar1': '4785665', 'lugar2': '69854165', 'lugar3': '89521035', 'oficina': '245895621', 'nuevacasa': '3053841256'}\n",
            "\n",
            "\n",
            "\n",
            "lugar1 : 4785665\n",
            "lugar2 : 69854165\n",
            "lugar3 : 89521035\n",
            "oficina : 245895621\n",
            "nuevacasa : 3053841256\n"
          ]
        }
      ],
      "source": [
        "class Person:\n",
        "  def __init__(self):\n",
        "    self.phone_dict={}\n",
        "\n",
        "  def add_number(self,tags,number):\n",
        "    \n",
        "    if len(number)>=7 and len(number)<=10 and number.isdigit() and type(number)==str:\n",
        "        self.phone_dict[tags]=number\n",
        "        print(f\"El numero de {tags} ha sido agregado con exito\\n\")\n",
        "    else:print(f\"ACCION INVALIDA: Ingresa un numero de telefono que tenga entre 7 y 10 digitos\\n El numero de {tags} no ha sido agregado\")\n",
        "\n",
        "  def delete_number(self,tags):\n",
        "    if tags in self.phone_dict.keys():\n",
        "      print(f\"El numero de {tags} ha sido eliminado\")\n",
        "      del self.phone_dict[tags]\n",
        "    \n",
        "  def modify_number(self,tags,new_number):\n",
        "    if len(new_number)>=7 and len(new_number)<=10 and new_number.isdigit() and type(new_number)==str:\n",
        "      if tags in self.phone_dict.keys():\n",
        "        self.phone_dict[tags]=new_number\n",
        "        print(f\"El numero de {tags} ha sido modificado por {new_number}\")\n",
        "      else:print(\"La clave no se encuentra en el diccionario\")\n",
        "    else:print(\"ACCION INVALIDA: Ingresa un nuevo numero de telefono que tenga entre 7 y 10 digitos\")\n",
        "\n",
        "  def modify_key(self,tags,new_key):\n",
        "    if tags in self.phone_dict.keys():\n",
        "      aux=self.phone_dict[tags]\n",
        "      self.delete_number(tags)\n",
        "\n",
        "      self.phone_dict[new_key]=aux\n",
        "      print(\"la clave ha sido modificada\")\n",
        "    else:print(\"ERROR: la clave no se encuentra en el diccionario\")\n",
        "\n",
        "  def print_numbers(self):\n",
        "    for key,value in self.phone_dict.items():\n",
        "\t    print(key, ':', value)\n",
        "\n",
        "phol=Person()\n",
        "\n",
        "phol.add_number(\"casa\",\"4489561\")\n",
        "\n",
        "phol.add_number(\"celular\",\"3056428965\")\n",
        "\n",
        "\n",
        "phol.add_number(\"lugar1\",\"4785665\")\n",
        "\n",
        "phol.add_number(\"lugar2\",\"69854165\")\n",
        "\n",
        "phol.add_number(\"lugar3\",\"89521035\")\n",
        "\n",
        "phol.add_number(\"oficina\",\"245895621\")\n",
        "print(phol.phone_dict)\n",
        "\n",
        "phol.delete_number(\"celular\")\n",
        "\n",
        "print(phol.phone_dict)\n",
        "\n",
        "phol.modify_number(\"casa\",\"3053841256\")\n",
        "print(phol.phone_dict)\n",
        "\n",
        "phol.modify_key(\"casa\",\"nuevacasa\")\n",
        "\n",
        "print(phol.phone_dict)\n",
        "\n",
        "print(\"\\n\\n\")\n",
        "phol.print_numbers()\n",
        "\n"
      ]
    },
    {
      "cell_type": "code",
      "source": [],
      "metadata": {
        "id": "SgcqiWm5_b7d"
      },
      "execution_count": null,
      "outputs": []
    },
    {
      "cell_type": "markdown",
      "source": [
        "#cambiar el valor de una keys\n",
        "```\n",
        ">>>a = {1:2, 3:4}\n",
        ">>>a[5] = a.pop(1)\n",
        ">>>a\n",
        "{3: 4, 5: 2}\n",
        ">>> \n",
        "\n",
        "```"
      ],
      "metadata": {
        "id": "9DlvAneb_eNL"
      }
    },
    {
      "cell_type": "markdown",
      "source": [
        "#Imprimir las claves de un diccionario:"
      ],
      "metadata": {
        "id": "RgtUCgchetxv"
      }
    },
    {
      "cell_type": "code",
      "source": [
        "casa={\"a\":85}\n",
        "\n",
        "print(casa.keys())"
      ],
      "metadata": {
        "colab": {
          "base_uri": "https://localhost:8080/"
        },
        "id": "KbCMQ_jL8c8z",
        "outputId": "1a5421f1-6828-4940-b465-516b8bb3cdbb"
      },
      "execution_count": null,
      "outputs": [
        {
          "output_type": "stream",
          "name": "stdout",
          "text": [
            "dict_keys(['a'])\n"
          ]
        }
      ]
    }
  ]
}